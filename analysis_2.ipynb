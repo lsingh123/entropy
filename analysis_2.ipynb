{
 "cells": [
  {
   "cell_type": "markdown",
   "metadata": {},
   "source": [
    "### Setup\n",
    "\n",
    "Read the data into a dataframe"
   ]
  },
  {
   "cell_type": "code",
   "execution_count": 15,
   "metadata": {},
   "outputs": [
    {
     "name": "stdout",
     "output_type": "stream",
     "text": [
      "         source         dest_ip                dest_owner type   OS length  \\\n",
      "0   192.168.2.4   17.120.254.12        APPLE-ENGINEERING,  tcp  ios     71   \n",
      "1   192.168.2.4   17.120.254.12        APPLE-ENGINEERING,  tcp  ios     40   \n",
      "2   192.168.2.4   17.120.254.12        APPLE-ENGINEERING,  tcp  ios     40   \n",
      "3   192.168.2.4  17.248.128.144        APPLE-ENGINEERING,  tcp  ios     83   \n",
      "4   192.168.2.4  17.248.128.143        APPLE-ENGINEERING,  tcp  ios     83   \n",
      "5   192.168.2.4  17.248.128.173        APPLE-ENGINEERING,  tcp  ios     83   \n",
      "6   192.168.2.4  17.248.128.144        APPLE-ENGINEERING,  tcp  ios     52   \n",
      "7   192.168.2.4  17.248.128.143        APPLE-ENGINEERING,  tcp  ios     52   \n",
      "8   192.168.2.4  17.248.128.173        APPLE-ENGINEERING,  tcp  ios     52   \n",
      "9   192.168.2.4  17.248.128.144        APPLE-ENGINEERING,  tcp  ios     52   \n",
      "10  192.168.2.4  17.248.128.173        APPLE-ENGINEERING,  tcp  ios     52   \n",
      "11  192.168.2.4  17.248.128.143        APPLE-ENGINEERING,  tcp  ios     52   \n",
      "12  192.168.2.4  184.31.189.217  NTT-COMMUNICATIONS-2914,  tcp  ios     64   \n",
      "13  192.168.2.4  184.31.189.217  NTT-COMMUNICATIONS-2914,  tcp  ios     52   \n",
      "14  192.168.2.4  184.31.189.217  NTT-COMMUNICATIONS-2914,  tcp  ios    569   \n",
      "\n",
      "          app category  \n",
      "0   woodshop2      all  \n",
      "1   woodshop2      all  \n",
      "2   woodshop2      all  \n",
      "3   woodshop2      all  \n",
      "4   woodshop2      all  \n",
      "5   woodshop2      all  \n",
      "6   woodshop2      all  \n",
      "7   woodshop2      all  \n",
      "8   woodshop2      all  \n",
      "9   woodshop2      all  \n",
      "10  woodshop2      all  \n",
      "11  woodshop2      all  \n",
      "12  woodshop2      all  \n",
      "13  woodshop2      all  \n",
      "14  woodshop2      all  \n"
     ]
    }
   ],
   "source": [
    "import pandas as pd\n",
    "import csv\n",
    "\n",
    "data = {\"source\":[], \"dest_ip\":[], \"dest_owner\":[], \"type\":[], \"OS\": [], \"length\":[], \"app\":[], \"category\":[]}\n",
    "with open(\"parsed_2.csv\", \"r\") as inf:\n",
    "    reader = csv.reader(inf, delimiter=',', quotechar = '\"')\n",
    "    next(reader)\n",
    "    for row in reader:\n",
    "        data[\"source\"].append(row[0])\n",
    "        data[\"dest_ip\"].append(row[1])\n",
    "        owner = row[2][0:row[2].find(\" \")].strip()\n",
    "        if owner.find(\"AKAMAI\") != -1:\n",
    "            owner = \"AKAMAI\"\n",
    "        data[\"dest_owner\"].append(owner)\n",
    "        data[\"type\"].append(row[3])\n",
    "        data[\"OS\"].append(row[4])\n",
    "        data[\"length\"].append(row[5])\n",
    "        data[\"app\"].append(row[6])\n",
    "        data[\"category\"].append(row[7])\n",
    "df = pd.DataFrame(data)\n",
    "print(df.head(15))\n"
   ]
  },
  {
   "cell_type": "markdown",
   "metadata": {},
   "source": [
    "### Top 15 most frequent providers (based on packet count)"
   ]
  },
  {
   "cell_type": "code",
   "execution_count": 16,
   "metadata": {},
   "outputs": [
    {
     "name": "stdout",
     "output_type": "stream",
     "text": [
      "AMAZON-02,                      64856\n",
      "AKAMAI                          57680\n",
      "GOOGLE,                         22274\n",
      "HIGHWINDS3,                      9759\n",
      "CMCS,                            8538\n",
      "CLOUDFLARENET,                   6397\n",
      "AMAZON-AES,                      5911\n",
      "EDGECAST,                        4628\n",
      "FASTLY,                          4185\n",
      "FACEBOOK,                        3933\n",
      "LEVEL3,                          3737\n",
      "APPLE-ENGINEERING,               2113\n",
      "MOPUB,                            916\n",
      "MICROSOFT-CORP-MSN-AS-BLOCK,      908\n",
      "PAYPAL,                           868\n",
      "Name: dest_owner, dtype: int64\n"
     ]
    }
   ],
   "source": [
    "top_fifteen = df[df.dest_owner != \"\"][\"dest_owner\"].value_counts()[0:15]\n",
    "print(top_fifteen)"
   ]
  },
  {
   "cell_type": "markdown",
   "metadata": {},
   "source": [
    "### Scores"
   ]
  },
  {
   "cell_type": "markdown",
   "metadata": {},
   "source": [
    "Previous analysis does not take into account the differences in number of packets for each app (this is why roblox is so high). \n",
    "Let's rank providers based on the proportion of packets captured for each app. \n"
   ]
  },
  {
   "cell_type": "markdown",
   "metadata": {},
   "source": [
    "Score for a given provider is given by  $$Score = \\frac{1}{N} \\sum_{n=1}^{N} \\frac{P_n}{T_n}$$\n",
    "\n",
    "Where $N$ is the number of apps, $P_n$ is the number of outgoing packets for app $n$ handled by the provider, and $T_n$ is the total number of outgoing packets for app $n$. Thus, the maximum possible score (all packets handled for all apps) is 1."
   ]
  },
  {
   "cell_type": "code",
   "execution_count": 17,
   "metadata": {},
   "outputs": [
    {
     "name": "stdout",
     "output_type": "stream",
     "text": [
      "              Provider     Score  % Traffic\n",
      "0           AMAZON-02,  0.228789  32.430594\n",
      "1              GOOGLE,  0.183949  11.137891\n",
      "2               AKAMAI  0.138793  28.842307\n",
      "3            FACEBOOK,  0.072727   1.966657\n",
      "4          AMAZON-AES,  0.068440   2.955736\n",
      "5   APPLE-ENGINEERING,  0.063912   1.056585\n",
      "6                CMCS,  0.047298   4.269342\n",
      "7       CLOUDFLARENET,  0.041984   3.198756\n",
      "8          HIGHWINDS3,  0.040244   4.879890\n",
      "9              FASTLY,  0.035119   2.092667\n",
      "10           EDGECAST,  0.018572   2.314185\n",
      "11            BADOO-U,  0.011181   0.133011\n",
      "12             PAYPAL,  0.010092   0.434035\n",
      "13             LEVEL3,  0.008187   1.868649\n",
      "14             SQUARE,  0.006264   0.194516\n"
     ]
    }
   ],
   "source": [
    "def get_scores(df):\n",
    "    owner_dict = {key:0 for key in df.dest_owner.unique()}\n",
    "    df = df[df.dest_owner != \"\"]\n",
    "    \n",
    "    \n",
    "    for app in df.app.unique():\n",
    "        perc = df[df.app == app][\"dest_owner\"].value_counts()\n",
    "        total = len(df[df.app == app])\n",
    "        perc = {key: float(value/total) for key, value in perc.items()}\n",
    "        for key,value in perc.items(): owner_dict[key] += value\n",
    "        \n",
    "    apps = len(df.app.unique())\n",
    "    score = {key: float(value)/apps for key,value in owner_dict.items()}\n",
    "    scores = pd.DataFrame(sorted(score.items(), key=lambda x: x[1], reverse=True), columns = [\"Provider\", \"Score\"])\n",
    "    scores[\"% Traffic\"] = scores[\"Provider\"].map(lambda x: len(df[df.dest_owner == x])/len(df)*100)\n",
    "    return scores\n",
    "\n",
    "print(get_scores(df).head(15))"
   ]
  },
  {
   "cell_type": "markdown",
   "metadata": {},
   "source": [
    "### Shannon's Entropy"
   ]
  },
  {
   "cell_type": "markdown",
   "metadata": {},
   "source": [
    "Now let's analyze the distribution of packet providers. Let's calculate Shannon's entropy for each app. This value will be highest if providers are evenly distributed. "
   ]
  },
  {
   "cell_type": "code",
   "execution_count": 18,
   "metadata": {},
   "outputs": [
    {
     "name": "stderr",
     "output_type": "stream",
     "text": [
      "/Users/lavanyasingh/anaconda3/lib/python3.6/site-packages/ipykernel_launcher.py:5: UserWarning: Boolean Series key will be reindexed to match DataFrame index.\n",
      "  \"\"\"\n"
     ]
    },
    {
     "name": "stdout",
     "output_type": "stream",
     "text": [
      "               App   Entropy  CDN Count             Top CDN\n",
      "0        woodshop2  2.105207         17         HIGHWINDS3,\n",
      "1   watermarbling2  2.093986         16         HIGHWINDS3,\n",
      "2        textfree2  2.068500         14          AMAZON-02,\n",
      "3        epicrace2  2.052115         17          AMAZON-02,\n",
      "4     woodturning2  1.870441         19           EDGECAST,\n",
      "..             ...       ...        ...                 ...\n",
      "56     googlehome2  0.258126          3             GOOGLE,\n",
      "57      lingokids2  0.104512          8          AMAZON-02,\n",
      "58         noggin2  0.099769         10              AKAMAI\n",
      "59    youtubekids2  0.067905          3             GOOGLE,\n",
      "60       baseline2  0.000000          1  APPLE-ENGINEERING,\n",
      "\n",
      "[61 rows x 4 columns]\n"
     ]
    }
   ],
   "source": [
    "from scipy.stats import entropy\n",
    "\n",
    "app_dict = {app:None for app in df.app.unique()}\n",
    "for app in df.app.unique():\n",
    "    counts = [len(df[df[\"app\"] == app][df[\"dest_owner\"] == dest_owner]) for dest_owner in df.dest_owner.unique()]\n",
    "    app_dict[app] = entropy(counts, base=None)\n",
    "app_entropy = pd.DataFrame(sorted(app_dict.items(), key=lambda x: x[1], reverse=True), columns = ['App', 'Entropy'])\n",
    "app_entropy[\"CDN Count\"] = [len(df[df.app == app].dest_owner.unique()) for app in app_entropy['App']]\n",
    "app_entropy[\"Top CDN\"] = [df[df.app == app]['dest_owner'].value_counts().idxmax() for app in app_entropy['App']]\n",
    "print(app_entropy)"
   ]
  },
  {
   "cell_type": "markdown",
   "metadata": {},
   "source": [
    "**15 apps with the lowest entropy**"
   ]
  },
  {
   "cell_type": "code",
   "execution_count": 20,
   "metadata": {},
   "outputs": [
    {
     "name": "stdout",
     "output_type": "stream",
     "text": [
      "              App   Entropy  CDN Count             Top CDN\n",
      "60      baseline2  0.000000          1  APPLE-ENGINEERING,\n",
      "59   youtubekids2  0.067905          3             GOOGLE,\n",
      "58        noggin2  0.099769         10              AKAMAI\n",
      "57     lingokids2  0.104512          8          AMAZON-02,\n",
      "56    googlehome2  0.258126          3             GOOGLE,\n",
      "55  pbskidsvideo2  0.263238          6          AMAZON-02,\n",
      "54     googleduo2  0.288033          4             GOOGLE,\n",
      "53          epic2  0.535533          6         HIGHWINDS3,\n",
      "52      abcmouse2  0.542091         12          AMAZON-02,\n",
      "51      whatsapp2  0.549062          4           FACEBOOK,\n",
      "50     messenger2  0.574133          7           FACEBOOK,\n",
      "49         hinge2  0.578442          8              AKAMAI\n",
      "48        tiktok2  0.632064          9              AKAMAI\n",
      "47      poshmark2  0.640763         10          AMAZON-02,\n",
      "46       youtube2  0.706418          5             GOOGLE,\n"
     ]
    }
   ],
   "source": [
    "print(app_entropy.sort_values(by=['Entropy']).head(15))"
   ]
  },
  {
   "cell_type": "markdown",
   "metadata": {},
   "source": [
    "**15 app with the highest entropy**"
   ]
  },
  {
   "cell_type": "code",
   "execution_count": 21,
   "metadata": {},
   "outputs": [
    {
     "name": "stdout",
     "output_type": "stream",
     "text": [
      "               App   Entropy  CDN Count      Top CDN\n",
      "0        woodshop2  2.105207         17  HIGHWINDS3,\n",
      "1   watermarbling2  2.093986         16  HIGHWINDS3,\n",
      "2        textfree2  2.068500         14   AMAZON-02,\n",
      "3        epicrace2  2.052115         17   AMAZON-02,\n",
      "4     woodturning2  1.870441         19    EDGECAST,\n",
      "5     creditkarma2  1.831104          8      GOOGLE,\n",
      "6       braintest2  1.688237         16      LEVEL3,\n",
      "7        idplease2  1.688140         17  HIGHWINDS3,\n",
      "8            ebay2  1.657671          9       AKAMAI\n",
      "9       foxsports2  1.638762         16       AKAMAI\n",
      "10       turbotax2  1.589736         11   AMAZON-02,\n",
      "11           wish2  1.583354         10   AMAZON-02,\n",
      "12       kiddopia2  1.580716          8    FACEBOOK,\n",
      "13        life3602  1.576536         10   AMAZON-02,\n",
      "14         costar2  1.528751          7  AMAZON-AES,\n"
     ]
    }
   ],
   "source": [
    "print(app_entropy.sort_values(by=['Entropy'], ascending=False).head(15))"
   ]
  },
  {
   "cell_type": "markdown",
   "metadata": {},
   "source": [
    "**Now let's get entropy by category.**"
   ]
  },
  {
   "cell_type": "code",
   "execution_count": 22,
   "metadata": {},
   "outputs": [
    {
     "name": "stderr",
     "output_type": "stream",
     "text": [
      "/Users/lavanyasingh/anaconda3/lib/python3.6/site-packages/ipykernel_launcher.py:6: UserWarning: Boolean Series key will be reindexed to match DataFrame index.\n",
      "  \n"
     ]
    },
    {
     "name": "stdout",
     "output_type": "stream",
     "text": [
      "           Category   Entropy  CDN Count          Top CDN  # of Apps\n",
      "0               all  2.204560         32           AKAMAI         10\n",
      "1              kids  1.162608         19       AMAZON-02,         10\n",
      "2          shopping  2.056382         23       AMAZON-02,         10\n",
      "3           finance  2.111467         20       AMAZON-02,         10\n",
      "4                na  0.000000          1  APPLE-ENGINEERI          1\n",
      "5  socialnetworking  2.196962         16          GOOGLE,         10\n",
      "6         lifestyle  1.905735         19       AMAZON-02,         10\n"
     ]
    }
   ],
   "source": [
    "# making provider names shorter\n",
    "df[\"dest_owner\"] = [provider[0:15] for provider in df.dest_owner]\n",
    "\n",
    "cat_dict = {category:None for category in df[\"category\"].unique()}\n",
    "for category in df.category.unique():\n",
    "    counts = [len(df[df[\"category\"] == category][df[\"dest_owner\"] == dest_owner]) for dest_owner in df.dest_owner.unique()]\n",
    "    counts = list(filter(lambda x: x!= 0, counts))\n",
    "    cat_dict[category] = entropy(counts, base=None)\n",
    "cat_entropy = pd.DataFrame(cat_dict.items(), columns = ['Category', 'Entropy'])\n",
    "cat_entropy.sort_values(by=[\"Entropy\"])\n",
    "cat_entropy[\"CDN Count\"] = [len(df[df.category == category].dest_owner.unique()) for category in cat_entropy['Category']]\n",
    "cat_entropy[\"Top CDN\"] = [df[df.category == category]['dest_owner'].value_counts().idxmax() for category in cat_entropy['Category']]\n",
    "cat_entropy[\"# of Apps\"] = [len(df[df.category == category].app.unique()) for category in cat_entropy['Category']]\n",
    "print(cat_entropy)\n",
    "    "
   ]
  },
  {
   "cell_type": "markdown",
   "metadata": {},
   "source": [
    "Keep in mind that the sample size for each category is still pretty tiny."
   ]
  },
  {
   "cell_type": "markdown",
   "metadata": {},
   "source": [
    "### Relationship between entropy and CDN"
   ]
  },
  {
   "cell_type": "markdown",
   "metadata": {},
   "source": [
    "Let's see if there's a correlation between entropy and number of CDN's used. "
   ]
  },
  {
   "cell_type": "code",
   "execution_count": 29,
   "metadata": {},
   "outputs": [
    {
     "data": {
      "text/html": [
       "<div>\n",
       "<style scoped>\n",
       "    .dataframe tbody tr th:only-of-type {\n",
       "        vertical-align: middle;\n",
       "    }\n",
       "\n",
       "    .dataframe tbody tr th {\n",
       "        vertical-align: top;\n",
       "    }\n",
       "\n",
       "    .dataframe thead th {\n",
       "        text-align: right;\n",
       "    }\n",
       "</style>\n",
       "<table border=\"1\" class=\"dataframe\">\n",
       "  <thead>\n",
       "    <tr style=\"text-align: right;\">\n",
       "      <th></th>\n",
       "      <th>Entropy</th>\n",
       "      <th>CDN Count</th>\n",
       "    </tr>\n",
       "  </thead>\n",
       "  <tbody>\n",
       "    <tr>\n",
       "      <th>Entropy</th>\n",
       "      <td>1.000000</td>\n",
       "      <td>0.614213</td>\n",
       "    </tr>\n",
       "    <tr>\n",
       "      <th>CDN Count</th>\n",
       "      <td>0.614213</td>\n",
       "      <td>1.000000</td>\n",
       "    </tr>\n",
       "  </tbody>\n",
       "</table>\n",
       "</div>"
      ],
      "text/plain": [
       "            Entropy  CDN Count\n",
       "Entropy    1.000000   0.614213\n",
       "CDN Count  0.614213   1.000000"
      ]
     },
     "execution_count": 29,
     "metadata": {},
     "output_type": "execute_result"
    }
   ],
   "source": [
    "app_entropy.corr()"
   ]
  },
  {
   "cell_type": "markdown",
   "metadata": {},
   "source": [
    "Let's calculate the average entropy of the apps that each CDN dominates (is the most used CDN for)."
   ]
  },
  {
   "cell_type": "code",
   "execution_count": 38,
   "metadata": {},
   "outputs": [
    {
     "name": "stdout",
     "output_type": "stream",
     "text": [
      "          provider   entropy\n",
      "2        FACEBOOK,  1.021737\n",
      "3            CMCS,  1.153058\n",
      "4          GOOGLE,  0.922011\n",
      "5      AMAZON-AES,  1.402623\n",
      "8           AKAMAI  1.137157\n",
      "10      AMAZON-02,  1.224780\n",
      "14     HIGHWINDS3,  1.605717\n",
      "16  CLOUDFLARENET,  1.339625\n",
      "18       EDGECAST,  1.669380\n",
      "19         FASTLY,  1.296878\n",
      "26         PAYPAL,  1.466309\n",
      "36        BADOO-U,  1.154267\n",
      "37         SQUARE,  1.457684\n",
      "52         LEVEL3,  1.688237\n"
     ]
    }
   ],
   "source": [
    "provider_df = pd.DataFrame(df[\"dest_owner\"].unique(), columns=['provider'])\n",
    "entropy = []\n",
    "for provider in provider_df[\"provider\"]:\n",
    "    try:\n",
    "        entropy.append(sum(app_entropy[app_entropy[\"Top CDN\"]==provider][\"Entropy\"])/len(app_entropy[app_entropy[\"Top CDN\"]==provider]))\n",
    "    except ZeroDivisionError:\n",
    "        entropy.append(-1)\n",
    "provider_df[\"entropy\"] = entropy\n",
    "print(provider_df[provider_df[\"entropy\"] != -1])"
   ]
  },
  {
   "cell_type": "markdown",
   "metadata": {},
   "source": [
    "Small providers appear to dominate for apps with high entropy (even distribution). Need to more thoroughly test this hypothesis."
   ]
  },
  {
   "cell_type": "markdown",
   "metadata": {},
   "source": [
    "to do: ANOVA to see if mean entropy per provider is independent? or maybe mean entropy per category?"
   ]
  },
  {
   "cell_type": "markdown",
   "metadata": {},
   "source": [
    "### Conclusion"
   ]
  },
  {
   "cell_type": "markdown",
   "metadata": {},
   "source": [
    "Conclusions: There's a good amount of variance in the entropy of each category. Kids and games have the lowest entropy and use akamai the most - would be interesting to examine correlation between entropy and top CDN and between category and top CDN. I think for future data collection we should also collect information about the size of the company that owns the app, the company itself (to check 3p versus 1p CDN), and the country of the app's owner (I didn't analyze that here, but TikTok talks to a Chinese CDN whereas the rest talk to American ones and that might be interesting).\n"
   ]
  },
  {
   "cell_type": "markdown",
   "metadata": {},
   "source": [
    "How many CDN's do apps tend to use? The more CDN's, the more chances for failure."
   ]
  },
  {
   "cell_type": "code",
   "execution_count": 24,
   "metadata": {},
   "outputs": [
    {
     "name": "stdout",
     "output_type": "stream",
     "text": [
      "               app  # of CDN's          category\n",
      "43    woodturning2          19               all\n",
      "0        woodshop2          17               all\n",
      "49       idplease2          17               all\n",
      "1        epicrace2          17               all\n",
      "58      braintest2          16               all\n",
      "51  watermarbling2          16               all\n",
      "8       foxsports2          16               all\n",
      "4      parkmaster2          14               all\n",
      "45       textfree2          14         lifestyle\n",
      "18           nike2          13          shopping\n",
      "6           venmo2          12           finance\n",
      "46       abcmouse2          12              kids\n",
      "40           yubo2          11  socialnetworking\n",
      "31       turbotax2          11           finance\n",
      "27         nebula2          11         lifestyle\n"
     ]
    }
   ],
   "source": [
    "counts = {}\n",
    "for app in df.app.unique():\n",
    "    counts.update({app:len(df[df[\"app\"] == app].dest_owner.unique())})\n",
    "counts_df = pd.DataFrame(counts.items(), columns=[\"app\", \"# of CDN's\"])    \n",
    "counts_df = counts_df.sort_values(by=\"# of CDN's\", ascending=False)\n",
    "counts_df[\"category\"] = [df[df['app'] == app].category.unique()[0] for app in counts_df['app']]\n",
    "print(counts_df.head(15))"
   ]
  }
 ],
 "metadata": {
  "kernelspec": {
   "display_name": "Python 3",
   "language": "python",
   "name": "python3"
  },
  "language_info": {
   "codemirror_mode": {
    "name": "ipython",
    "version": 3
   },
   "file_extension": ".py",
   "mimetype": "text/x-python",
   "name": "python",
   "nbconvert_exporter": "python",
   "pygments_lexer": "ipython3",
   "version": "3.6.8"
  }
 },
 "nbformat": 4,
 "nbformat_minor": 4
}
