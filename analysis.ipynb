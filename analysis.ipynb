{
 "cells": [
  {
   "cell_type": "markdown",
   "metadata": {},
   "source": [
    "Run these lines once:"
   ]
  },
  {
   "cell_type": "code",
   "execution_count": 1,
   "metadata": {},
   "outputs": [
    {
     "name": "stdout",
     "output_type": "stream",
     "text": [
      "Collecting package metadata (current_repodata.json): done\n",
      "Solving environment: done\n",
      "\n",
      "# All requested packages already installed.\n",
      "\n",
      "Collecting package metadata (current_repodata.json): done\n",
      "Solving environment: done\n",
      "\n",
      "# All requested packages already installed.\n",
      "\n",
      "Collecting package metadata (current_repodata.json): done\n",
      "Solving environment: done\n",
      "\n",
      "## Package Plan ##\n",
      "\n",
      "  environment location: /Users/lavanyasingh/anaconda3\n",
      "\n",
      "  added / updated specs:\n",
      "    - scipy\n",
      "\n",
      "\n",
      "The following packages will be downloaded:\n",
      "\n",
      "    package                    |            build\n",
      "    ---------------------------|-----------------\n",
      "    scipy-1.3.2                |   py36h1410ff5_0        12.5 MB\n",
      "    ------------------------------------------------------------\n",
      "                                           Total:        12.5 MB\n",
      "\n",
      "The following NEW packages will be INSTALLED:\n",
      "\n",
      "  scipy              pkgs/main/osx-64::scipy-1.3.2-py36h1410ff5_0\n",
      "\n",
      "\n",
      "\n",
      "Downloading and Extracting Packages\n",
      "scipy-1.3.2          | 12.5 MB   | ##################################### | 100% \n",
      "Preparing transaction: done\n",
      "Verifying transaction: done\n",
      "Executing transaction: done\n"
     ]
    }
   ],
   "source": [
    "import sys\n",
    "!conda install --yes --prefix {sys.prefix} numpy\n",
    "!conda install --yes --prefix {sys.prefix} pandas\n",
    "!conda install --yes --prefix {sys.prefix} scipy"
   ]
  },
  {
   "cell_type": "markdown",
   "metadata": {},
   "source": [
    "Read data from csv into pandas dataframe"
   ]
  },
  {
   "cell_type": "code",
   "execution_count": 1,
   "metadata": {},
   "outputs": [
    {
     "name": "stdout",
     "output_type": "stream",
     "text": [
      "         source         dest_ip                dest_owner type   OS length  \\\n",
      "0   192.168.2.4   17.120.254.12        APPLE-ENGINEERING,  tcp  ios     71   \n",
      "1   192.168.2.4   17.120.254.12        APPLE-ENGINEERING,  tcp  ios     40   \n",
      "2   192.168.2.4   17.120.254.12        APPLE-ENGINEERING,  tcp  ios     40   \n",
      "3   192.168.2.4  17.248.128.144        APPLE-ENGINEERING,  tcp  ios     83   \n",
      "4   192.168.2.4  17.248.128.143        APPLE-ENGINEERING,  tcp  ios     83   \n",
      "5   192.168.2.4  17.248.128.173        APPLE-ENGINEERING,  tcp  ios     83   \n",
      "6   192.168.2.4  17.248.128.144        APPLE-ENGINEERING,  tcp  ios     52   \n",
      "7   192.168.2.4  17.248.128.143        APPLE-ENGINEERING,  tcp  ios     52   \n",
      "8   192.168.2.4  17.248.128.173        APPLE-ENGINEERING,  tcp  ios     52   \n",
      "9   192.168.2.4  17.248.128.144        APPLE-ENGINEERING,  tcp  ios     52   \n",
      "10  192.168.2.4  17.248.128.173        APPLE-ENGINEERING,  tcp  ios     52   \n",
      "11  192.168.2.4  17.248.128.143        APPLE-ENGINEERING,  tcp  ios     52   \n",
      "12  192.168.2.4  184.31.189.217  NTT-COMMUNICATIONS-2914,  tcp  ios     64   \n",
      "13  192.168.2.4  184.31.189.217  NTT-COMMUNICATIONS-2914,  tcp  ios     52   \n",
      "14  192.168.2.4  184.31.189.217  NTT-COMMUNICATIONS-2914,  tcp  ios    569   \n",
      "\n",
      "          app category  \n",
      "0   woodshop2      all  \n",
      "1   woodshop2      all  \n",
      "2   woodshop2      all  \n",
      "3   woodshop2      all  \n",
      "4   woodshop2      all  \n",
      "5   woodshop2      all  \n",
      "6   woodshop2      all  \n",
      "7   woodshop2      all  \n",
      "8   woodshop2      all  \n",
      "9   woodshop2      all  \n",
      "10  woodshop2      all  \n",
      "11  woodshop2      all  \n",
      "12  woodshop2      all  \n",
      "13  woodshop2      all  \n",
      "14  woodshop2      all  \n"
     ]
    }
   ],
   "source": [
    "import pandas as pd\n",
    "import csv\n",
    "\n",
    "data = {\"source\":[], \"dest_ip\":[], \"dest_owner\":[], \"type\":[], \"OS\": [], \"length\":[], \"app\":[], \"category\":[]}\n",
    "with open(\"parsed_2.csv\", \"r\") as inf:\n",
    "    reader = csv.reader(inf, delimiter=',', quotechar = '\"')\n",
    "    next(reader)\n",
    "    for row in reader:\n",
    "        data[\"source\"].append(row[0])\n",
    "        data[\"dest_ip\"].append(row[1])\n",
    "        data[\"dest_owner\"].append(row[2][0:row[2].find(\" \")].strip())\n",
    "        data[\"type\"].append(row[3])\n",
    "        data[\"OS\"].append(row[4])\n",
    "        data[\"length\"].append(row[5])\n",
    "        data[\"app\"].append(row[6])\n",
    "        data[\"category\"].append(row[7])\n",
    "df = pd.DataFrame(data)\n",
    "print(df.head(15))\n"
   ]
  },
  {
   "cell_type": "markdown",
   "metadata": {},
   "source": [
    "Top 15 most frequent providers (based on packet count)"
   ]
  },
  {
   "cell_type": "code",
   "execution_count": 2,
   "metadata": {},
   "outputs": [
    {
     "name": "stdout",
     "output_type": "stream",
     "text": [
      "AMAZON-02,                      64856\n",
      "AKAMAI-AS,                      42328\n",
      "GOOGLE,                         22274\n",
      "AKAMAI-ASN1,                    15352\n",
      "HIGHWINDS3,                      9759\n",
      "CMCS,                            8538\n",
      "CLOUDFLARENET,                   6397\n",
      "AMAZON-AES,                      5911\n",
      "EDGECAST,                        4628\n",
      "FASTLY,                          4185\n",
      "FACEBOOK,                        3933\n",
      "LEVEL3,                          3737\n",
      "APPLE-ENGINEERING,               2113\n",
      "MOPUB,                            916\n",
      "MICROSOFT-CORP-MSN-AS-BLOCK,      908\n",
      "Name: dest_owner, dtype: int64\n"
     ]
    }
   ],
   "source": [
    "top_fifteen = df[df.dest_owner != \"\"][\"dest_owner\"].value_counts()[0:15]\n",
    "print(top_fifteen)"
   ]
  },
  {
   "cell_type": "markdown",
   "metadata": {},
   "source": [
    "Previous analysis does not take into account the differences in number of packets for each app (this is why roblox is so high). \n",
    "Let's rank providers based on the proportion of packets captured for each app. \n"
   ]
  },
  {
   "cell_type": "markdown",
   "metadata": {},
   "source": [
    "Score for a given provider is given by  $$Score = \\frac{1}{N} \\sum_{n=1}^{N} \\frac{P_n}{T_n}$$\n",
    "\n",
    "Where $N$ is the number of apps, $P_n$ is the number of outgoing packets for app $n$ handled by the provider, and $T_n$ is the total number of outgoing packets for app $n$. Thus, the maximum possible score (all packets handled for all apps) is 1."
   ]
  },
  {
   "cell_type": "code",
   "execution_count": 3,
   "metadata": {},
   "outputs": [
    {
     "name": "stdout",
     "output_type": "stream",
     "text": [
      "              Provider     Score  % Traffic\n",
      "0           AMAZON-02,  0.228789  32.430594\n",
      "1              GOOGLE,  0.183949  11.137891\n",
      "2           AKAMAI-AS,  0.106181  21.165693\n",
      "3            FACEBOOK,  0.072727   1.966657\n",
      "4          AMAZON-AES,  0.068440   2.955736\n",
      "5   APPLE-ENGINEERING,  0.063912   1.056585\n",
      "6                CMCS,  0.047298   4.269342\n",
      "7       CLOUDFLARENET,  0.041984   3.198756\n",
      "8          HIGHWINDS3,  0.040244   4.879890\n",
      "9              FASTLY,  0.035119   2.092667\n",
      "10        AKAMAI-ASN1,  0.032611   7.676614\n",
      "11           EDGECAST,  0.018572   2.314185\n",
      "12            BADOO-U,  0.011181   0.133011\n",
      "13             PAYPAL,  0.010092   0.434035\n",
      "14             LEVEL3,  0.008187   1.868649\n"
     ]
    }
   ],
   "source": [
    "def get_scores(df):\n",
    "    owner_dict = {key:0 for key in df.dest_owner.unique()}\n",
    "    df = df[df.dest_owner != \"\"]\n",
    "    \n",
    "    \n",
    "    for app in df.app.unique():\n",
    "        perc = df[df.app == app][\"dest_owner\"].value_counts()\n",
    "        total = len(df[df.app == app])\n",
    "        perc = {key: float(value/total) for key, value in perc.items()}\n",
    "        for key,value in perc.items(): owner_dict[key] += value\n",
    "        \n",
    "    apps = len(df.app.unique())\n",
    "    score = {key: float(value)/apps for key,value in owner_dict.items()}\n",
    "    scores = pd.DataFrame(sorted(score.items(), key=lambda x: x[1], reverse=True), columns = [\"Provider\", \"Score\"])\n",
    "    scores[\"% Traffic\"] = scores[\"Provider\"].map(lambda x: len(df[df.dest_owner == x])/len(df)*100)\n",
    "    return scores\n",
    "\n",
    "print(get_scores(df).head(15))"
   ]
  },
  {
   "cell_type": "markdown",
   "metadata": {},
   "source": [
    "Let's repeat the same thing for ios."
   ]
  },
  {
   "cell_type": "code",
   "execution_count": 4,
   "metadata": {},
   "outputs": [
    {
     "name": "stdout",
     "output_type": "stream",
     "text": [
      "              Provider     Score  % Traffic\n",
      "0           AMAZON-02,  0.228789  32.430594\n",
      "1              GOOGLE,  0.183949  11.137891\n",
      "2           AKAMAI-AS,  0.106181  21.165693\n",
      "3            FACEBOOK,  0.072727   1.966657\n",
      "4          AMAZON-AES,  0.068440   2.955736\n",
      "5   APPLE-ENGINEERING,  0.063912   1.056585\n",
      "6                CMCS,  0.047298   4.269342\n",
      "7       CLOUDFLARENET,  0.041984   3.198756\n",
      "8          HIGHWINDS3,  0.040244   4.879890\n",
      "9              FASTLY,  0.035119   2.092667\n",
      "10        AKAMAI-ASN1,  0.032611   7.676614\n",
      "11           EDGECAST,  0.018572   2.314185\n",
      "12            BADOO-U,  0.011181   0.133011\n",
      "13             PAYPAL,  0.010092   0.434035\n",
      "14             LEVEL3,  0.008187   1.868649\n"
     ]
    }
   ],
   "source": [
    "print(get_scores(df[df.OS == \"ios\"]).head(15))"
   ]
  },
  {
   "cell_type": "markdown",
   "metadata": {},
   "source": [
    "And for android."
   ]
  },
  {
   "cell_type": "code",
   "execution_count": 5,
   "metadata": {},
   "outputs": [
    {
     "name": "stdout",
     "output_type": "stream",
     "text": [
      "Empty DataFrame\n",
      "Columns: [Provider, Score, % Traffic]\n",
      "Index: []\n"
     ]
    }
   ],
   "source": [
    "print(get_scores(df[df.OS == \"android\"]).head(15))"
   ]
  },
  {
   "cell_type": "markdown",
   "metadata": {},
   "source": [
    "android talks to google WAY more -> indicative of background/non-app related traffic???"
   ]
  },
  {
   "cell_type": "markdown",
   "metadata": {},
   "source": [
    "Now let's analyze the distribution of packet providers. Let's calculate Shannon's entropy for each app. This value will be highest if providers are evenly distributed. "
   ]
  },
  {
   "cell_type": "code",
   "execution_count": 6,
   "metadata": {},
   "outputs": [
    {
     "name": "stderr",
     "output_type": "stream",
     "text": [
      "/Users/lavanyasingh/anaconda3/lib/python3.6/site-packages/ipykernel_launcher.py:5: UserWarning: Boolean Series key will be reindexed to match DataFrame index.\n",
      "  \"\"\"\n"
     ]
    },
    {
     "name": "stdout",
     "output_type": "stream",
     "text": [
      "              App   Entropy  CDN Count             Top CDN\n",
      "0        woodshop  2.159689         18         HIGHWINDS3,\n",
      "1   watermarbling  2.125502         17         HIGHWINDS3,\n",
      "2        epicrace  2.117777         18          AMAZON-02,\n",
      "3        textfree  2.068500         14          AMAZON-02,\n",
      "4     woodturning  1.938164         20           EDGECAST,\n",
      "..            ...       ...        ...                 ...\n",
      "56     googlehome  0.258126          3             GOOGLE,\n",
      "57         noggin  0.167389         11          AKAMAI-AS,\n",
      "58      lingokids  0.104512          8          AMAZON-02,\n",
      "59    youtubekids  0.067905          3             GOOGLE,\n",
      "60       baseline  0.000000          1  APPLE-ENGINEERING,\n",
      "\n",
      "[61 rows x 4 columns]\n"
     ]
    }
   ],
   "source": [
    "from scipy.stats import entropy\n",
    "\n",
    "app_dict = {app:None for app in df.app.unique()}\n",
    "for app in df.app.unique():\n",
    "    counts = [len(df[df[\"app\"] == app][df[\"dest_owner\"] == dest_owner]) for dest_owner in df.dest_owner.unique()]\n",
    "    app_dict[app] = entropy(counts, base=None)\n",
    "app_entropy = pd.DataFrame(sorted(app_dict.items(), key=lambda x: x[1], reverse=True), columns = ['App', 'Entropy'])\n",
    "app_entropy[\"CDN Count\"] = [len(df[df.app == app].dest_owner.unique()) for app in app_entropy['App']]\n",
    "app_entropy[\"Top CDN\"] = [df[df.app == app]['dest_owner'].value_counts().idxmax() for app in app_entropy['App']]\n",
    "print(app_entropy)"
   ]
  },
  {
   "cell_type": "markdown",
   "metadata": {},
   "source": [
    "Now let's do some entropy analysis by category. I'm going to manually input categories :("
   ]
  },
  {
   "cell_type": "code",
   "execution_count": 48,
   "metadata": {},
   "outputs": [
    {
     "name": "stdout",
     "output_type": "stream",
     "text": [
      "               App   Entropy  CDN Count       Top CDN       category\n",
      "0       forgeahead  2.223228         24     AKAMAI-AS          games\n",
      "1           tinder  1.914604         10        GOOGLE      lifestyle\n",
      "2          luckygo  1.560211         13     AKAMAI-AS      lifestyle\n",
      "3           arrive  1.425340          7        GOOGLE       shopping\n",
      "4             yolo  1.368666         11        GOOGLE         social\n",
      "5            venmo  1.367446         13     AMAZON-02        finance\n",
      "6          walmart  1.158229          9          CMCS       shopping\n",
      "7          cashapp  1.127729          8        GOOGLE        finance\n",
      "8           tiktok  1.021691          9  AKAMAI-ASN1,         social\n",
      "9        messenger  0.950322         11        GOOGLE         social\n",
      "10  amazonshopping  0.863552          5          CMCS       shopping\n",
      "11          roblox  0.750157          9          CMCS          games\n",
      "12      googlehome  0.697491          4        GOOGLE      lifestyle\n",
      "13          amazon  0.694052          8          CMCS       shopping\n",
      "14      disneyplus  0.677383          8     AMAZON-02  entertainment\n",
      "15   messengerkids  0.369311          4        GOOGLE           kids\n",
      "16        baseline  0.339136          3        GOOGLE        control\n",
      "17        snapchat  0.068931          4        GOOGLE         social\n",
      "18     youtubekids  0.063864          3        GOOGLE           kids\n",
      "19     androidauto  0.007168          2        GOOGLE           auto\n"
     ]
    }
   ],
   "source": [
    "categories = {\"forgeahead\":\"games\", \"tinder\":\"lifestyle\", \"luckygo\":\"lifestyle\", \"arrive\":\"shopping\", \"yolo\":\"social\", \n",
    "              \"venmo\":\"finance\", \"walmart\":\"shopping\", \"cashapp\":\"finance\", \"tiktok\":\"social\", \"messenger\":\"social\", \n",
    "             \"amazonshopping\":\"shopping\", \"roblox\":\"games\", \"googlehome\":\"lifestyle\", \"amazon\":\"shopping\", \"disneyplus\":\"entertainment\", \n",
    "             \"messengerkids\":\"kids\", \"baseline\":\"control\", \"snapchat\":\"social\", \"youtubekids\":\"kids\", \"androidauto\":\"auto\"}\n",
    "app_entropy[\"category\"] = [categories[app] for app in app_entropy.App.unique()]\n",
    "# making the provider names shorter lol\n",
    "app_entropy[\"Top CDN\"] = [provider[0:15] for provider in app_entropy[\"Top CDN\"]]\n",
    "print(app_entropy)"
   ]
  },
  {
   "cell_type": "markdown",
   "metadata": {},
   "source": [
    "Now let's get entropy by category."
   ]
  },
  {
   "cell_type": "code",
   "execution_count": 49,
   "metadata": {},
   "outputs": [
    {
     "name": "stderr",
     "output_type": "stream",
     "text": [
      "/Users/lavanyasingh/anaconda3/lib/python3.6/site-packages/ipykernel_launcher.py:7: UserWarning: Boolean Series key will be reindexed to match DataFrame index.\n",
      "  import sys\n"
     ]
    },
    {
     "name": "stdout",
     "output_type": "stream",
     "text": [
      "        Category   Entropy  CDN Count    Top CDN  # of Apps\n",
      "0          games  1.542955         26       CMCS          2\n",
      "1      lifestyle  1.914956         15  AKAMAI-AS          3\n",
      "2       shopping  1.015942         12       CMCS          4\n",
      "3         social  1.191922         18     GOOGLE          4\n",
      "4        finance  1.594803         14  AMAZON-02          2\n",
      "5  entertainment  0.677383          8  AMAZON-02          1\n",
      "6           kids  0.172813          4     GOOGLE          2\n",
      "7        control  0.339136          3     GOOGLE          1\n",
      "8           auto  0.007168          2     GOOGLE          1\n"
     ]
    }
   ],
   "source": [
    "# a little maintenance\n",
    "df[\"category\"] = [categories[app] for app in df.app]\n",
    "df[\"dest_owner\"] = [provider[0:15] for provider in df.dest_owner]\n",
    "\n",
    "cat_dict = {category:None for category in categories.values()}\n",
    "for category in df.category.unique():\n",
    "    counts = [len(df[df[\"category\"] == category][df[\"dest_owner\"] == dest_owner]) for dest_owner in df.dest_owner.unique()]\n",
    "    counts = list(filter(lambda x: x!= 0, counts))\n",
    "    cat_dict[category] = entropy(counts, base=None)\n",
    "cat_entropy = pd.DataFrame(cat_dict.items(), columns = ['Category', 'Entropy'])\n",
    "cat_entropy.sort_values(by=[\"Entropy\"])\n",
    "cat_entropy[\"CDN Count\"] = [len(df[df.category == category].dest_owner.unique()) for category in cat_entropy['Category']]\n",
    "cat_entropy[\"Top CDN\"] = [df[df.category == category]['dest_owner'].value_counts().idxmax() for category in cat_entropy['Category']]\n",
    "cat_entropy[\"# of Apps\"] = [len(df[df.category == category].app.unique()) for category in cat_entropy['Category']]\n",
    "print(cat_entropy)\n",
    "    "
   ]
  },
  {
   "cell_type": "markdown",
   "metadata": {},
   "source": [
    "Keep in mind that the sample size for each category is pretty tiny."
   ]
  },
  {
   "cell_type": "markdown",
   "metadata": {},
   "source": [
    "Let's now try to figure out how distributed the entire dataset is. I'm going to use a a chi squared to test to figure out \n",
    "how evenly distributed CDN usage is."
   ]
  },
  {
   "cell_type": "code",
   "execution_count": 50,
   "metadata": {},
   "outputs": [
    {
     "name": "stdout",
     "output_type": "stream",
     "text": [
      "0.0\n"
     ]
    }
   ],
   "source": [
    "from scipy.stats import chisquare\n",
    "stat = chisquare([len(df[df[\"dest_owner\"] == provider]) for provider in df.dest_owner.unique()])\n",
    "print(stat.pvalue)"
   ]
  },
  {
   "cell_type": "markdown",
   "metadata": {},
   "source": [
    "Our pvalue is 0. I guess CDN usage is nowhere NEAR unformly distributed. "
   ]
  },
  {
   "cell_type": "markdown",
   "metadata": {},
   "source": [
    "It also seems like \"smaller\" apps are more likely to use more CDN's than an app owned by a huge company, like Google. To test this, I'm going to use the app's downloads (sum of ios and android downloads as given by sensortower) as a rough proxy measure for app size (but maybe we can come up with something better). I'm going to have to manually input this :("
   ]
  },
  {
   "cell_type": "code",
   "execution_count": 51,
   "metadata": {},
   "outputs": [
    {
     "name": "stdout",
     "output_type": "stream",
     "text": [
      "               App   Entropy  CDN Count       Top CDN       category  \\\n",
      "0       forgeahead  2.223228         24     AKAMAI-AS          games   \n",
      "1           tinder  1.914604         10        GOOGLE      lifestyle   \n",
      "2          luckygo  1.560211         13     AKAMAI-AS      lifestyle   \n",
      "3           arrive  1.425340          7        GOOGLE       shopping   \n",
      "4             yolo  1.368666         11        GOOGLE         social   \n",
      "5            venmo  1.367446         13     AMAZON-02        finance   \n",
      "6          walmart  1.158229          9          CMCS       shopping   \n",
      "7          cashapp  1.127729          8        GOOGLE        finance   \n",
      "8           tiktok  1.021691          9  AKAMAI-ASN1,         social   \n",
      "9        messenger  0.950322         11        GOOGLE         social   \n",
      "10  amazonshopping  0.863552          5          CMCS       shopping   \n",
      "11          roblox  0.750157          9          CMCS          games   \n",
      "12      googlehome  0.697491          4        GOOGLE      lifestyle   \n",
      "13          amazon  0.694052          8          CMCS       shopping   \n",
      "14      disneyplus  0.677383          8     AMAZON-02  entertainment   \n",
      "15   messengerkids  0.369311          4        GOOGLE           kids   \n",
      "16        baseline  0.339136          3        GOOGLE        control   \n",
      "17        snapchat  0.068931          4        GOOGLE         social   \n",
      "18     youtubekids  0.063864          3        GOOGLE           kids   \n",
      "19     androidauto  0.007168          2        GOOGLE           auto   \n",
      "\n",
      "    downloads  \n",
      "0    10000000  \n",
      "1     6000000  \n",
      "2     1000000  \n",
      "3     1800000  \n",
      "4     2600000  \n",
      "5     1700000  \n",
      "6     2000000  \n",
      "7     3000000  \n",
      "8    58000000  \n",
      "9    43000000  \n",
      "10    9000000  \n",
      "11   12000000  \n",
      "12    7000000  \n",
      "13    9000000  \n",
      "14    8000000  \n",
      "15     900000  \n",
      "16          0  \n",
      "17   26000000  \n",
      "18    7000000  \n",
      "19    3000000  \n"
     ]
    }
   ],
   "source": [
    "downloads = {\"forgeahead\":10000000, \"tinder\":6000000, \"luckygo\":1000000, \"arrive\":1800000, \"yolo\":2600000, \n",
    "              \"venmo\":1700000, \"walmart\":2000000, \"cashapp\":3000000, \"tiktok\":58000000, \"messenger\":43000000, \n",
    "             \"amazonshopping\":9000000, \"roblox\":12000000, \"googlehome\":7000000, \"amazon\":9000000, \"disneyplus\":8000000, \n",
    "             \"messengerkids\":900000, \"baseline\":0, \"snapchat\":26000000, \"youtubekids\":7000000, \"androidauto\":3000000}\n",
    "df[\"downloads\"] = [downloads[app] for app in df.app]\n",
    "app_entropy[\"downloads\"] = [downloads[app] for app in app_entropy.App]\n",
    "app_entropy.sort_values(by=[\"downloads\"])\n",
    "print(app_entropy)\n"
   ]
  },
  {
   "cell_type": "markdown",
   "metadata": {},
   "source": [
    "Conclusions: There is definitely a lot of clustering going on, and sampling by category seems to be worth it because there's a good amount of variance in the entropy of each category. I think for future data collection we should also collect information about the size of the company that owns the app, the category of the app (so I don't have to input it manually lol), and the country of the app's owner (I didn't analyze that here, but TikTok talks to a Chinese CDN whereas the rest talk to American ones and that might be interesting).\n"
   ]
  },
  {
   "cell_type": "markdown",
   "metadata": {},
   "source": [
    "How many CDN's do apps tend to use? The more CDN's, the more chances for failure."
   ]
  },
  {
   "cell_type": "code",
   "execution_count": 52,
   "metadata": {},
   "outputs": [
    {
     "name": "stdout",
     "output_type": "stream",
     "text": [
      "               app  # of CDN's       category\n",
      "8       forgeahead          24          games\n",
      "10           venmo          13        finance\n",
      "13         luckygo          13      lifestyle\n",
      "16       messenger          11         social\n",
      "9             yolo          11         social\n",
      "6           tinder          10      lifestyle\n",
      "11          tiktok           9         social\n",
      "18          roblox           9          games\n",
      "15         walmart           9       shopping\n",
      "14          amazon           8       shopping\n",
      "0       disneyplus           8  entertainment\n",
      "4          cashapp           8        finance\n",
      "12          arrive           7       shopping\n",
      "7   amazonshopping           5       shopping\n",
      "1       googlehome           4      lifestyle\n",
      "5         snapchat           4         social\n",
      "17   messengerkids           4           kids\n",
      "2         baseline           3        control\n",
      "19     youtubekids           3           kids\n",
      "3      androidauto           2           auto\n"
     ]
    }
   ],
   "source": [
    "counts = {}\n",
    "for app in df.app.unique():\n",
    "    counts.update({app:len(df[df[\"app\"] == app].dest_owner.unique())})\n",
    "counts_df = pd.DataFrame(counts.items(), columns=[\"app\", \"# of CDN's\"])    \n",
    "counts_df = counts_df.sort_values(by=\"# of CDN's\", ascending=False)\n",
    "counts_df[\"category\"] = [categories[app] for app in counts_df[\"app\"]]\n",
    "print(counts_df)"
   ]
  },
  {
   "cell_type": "markdown",
   "metadata": {},
   "source": [
    "I'm now manually going to tag certain CDN's as belonging to certain apps so that we can analyze 3p CDN usage."
   ]
  },
  {
   "cell_type": "code",
   "execution_count": 60,
   "metadata": {},
   "outputs": [
    {
     "name": "stdout",
     "output_type": "stream",
     "text": [
      "['AKAMAI-AS', '', 'AMAZON-02', 'APPLE-ENGINEERI', 'GOOGLE', 'FASTLY', 'CMCS', 'SQUARE', 'AMAZON-AES', 'HIGHWINDS3', 'FACEBOOK', 'HIGHWINDS2', 'EDGECAST', 'TAOBAO', 'CNNIC-ALIBABA-U', 'CLOUDFLARENET', 'AS-CHOOPA', 'MICROSOFT-CORP-', 'AS-CRITEO', 'COGECO-PEER1', 'DOUBLE-VERIFY', 'SOFTLAYER', 'SECTIGO,', 'APPLE-AUSTIN', 'BRAINTREEPAYMEN', 'PAYPAL', 'OVH,', 'AKAMAI-ASN1,', 'MONTICELLO', 'ASN-APPNEXUS', 'XMISSION', 'MOPUB', 'TENCENT-NET-AP-', 'BJ-GUANGHUAN-AP', 'AS-26496-GO-DAD', 'TWITTER', 'EBAY', 'ROBLOX-PRODUCTI', 'LLNW']\n"
     ]
    }
   ],
   "source": [
    "print(list(df.dest_owner.unique()))"
   ]
  },
  {
   "cell_type": "code",
   "execution_count": 63,
   "metadata": {},
   "outputs": [
    {
     "ename": "SyntaxError",
     "evalue": "invalid syntax (<ipython-input-63-2e8c9e76c46c>, line 7)",
     "output_type": "error",
     "traceback": [
      "\u001b[0;36m  File \u001b[0;32m\"<ipython-input-63-2e8c9e76c46c>\"\u001b[0;36m, line \u001b[0;32m7\u001b[0m\n\u001b[0;31m    if\u001b[0m\n\u001b[0m       ^\u001b[0m\n\u001b[0;31mSyntaxError\u001b[0m\u001b[0;31m:\u001b[0m invalid syntax\n"
     ]
    }
   ],
   "source": [
    "first_party = {\"venmo\":\"PAYPAL\", \"venmo\":\"BRAINTREEPAYMEN\", \"messenger\":\"FACEBOOK\", \"roblox\":\"ROBLOX-PRODUCTI\", \n",
    "               \"amazon\":\"AMAZON-AES\", \"amazon\":\"AMAZON-02\", \"cashapp\":\"SQUARE\", \"amazonshopping\":\"AMAZON-AES\", \n",
    "              \"amazonshopping\":\"AMAZON-02\", \"googlehome\":\"GOOGLE\", \"messengerkids\":\"FACEBOOK\", \"youtubekids\":\"GOOGLE\", \n",
    "              \"androidauto\":\"GOOGLE\"}\n",
    "self_cdn = {app:False for app in df.dest_owner.unique()}\n",
    "for app in self_cdn:\n",
    "    if \n",
    "\n",
    "print(df.head)"
   ]
  },
  {
   "cell_type": "code",
   "execution_count": null,
   "metadata": {},
   "outputs": [],
   "source": []
  }
 ],
 "metadata": {
  "kernelspec": {
   "display_name": "Python 3",
   "language": "python",
   "name": "python3"
  },
  "language_info": {
   "codemirror_mode": {
    "name": "ipython",
    "version": 3
   },
   "file_extension": ".py",
   "mimetype": "text/x-python",
   "name": "python",
   "nbconvert_exporter": "python",
   "pygments_lexer": "ipython3",
   "version": "3.6.8"
  }
 },
 "nbformat": 4,
 "nbformat_minor": 4
}
