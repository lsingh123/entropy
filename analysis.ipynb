{
 "cells": [
  {
   "cell_type": "markdown",
   "metadata": {},
   "source": [
    "Run these lines once:"
   ]
  },
  {
   "cell_type": "code",
   "execution_count": 1,
   "metadata": {},
   "outputs": [
    {
     "name": "stdout",
     "output_type": "stream",
     "text": [
      "Collecting package metadata (current_repodata.json): done\n",
      "Solving environment: done\n",
      "\n",
      "# All requested packages already installed.\n",
      "\n",
      "Collecting package metadata (current_repodata.json): done\n",
      "Solving environment: done\n",
      "\n",
      "# All requested packages already installed.\n",
      "\n",
      "Collecting package metadata (current_repodata.json): done\n",
      "Solving environment: done\n",
      "\n",
      "## Package Plan ##\n",
      "\n",
      "  environment location: /Users/lavanyasingh/anaconda3\n",
      "\n",
      "  added / updated specs:\n",
      "    - scipy\n",
      "\n",
      "\n",
      "The following packages will be downloaded:\n",
      "\n",
      "    package                    |            build\n",
      "    ---------------------------|-----------------\n",
      "    scipy-1.3.2                |   py36h1410ff5_0        12.5 MB\n",
      "    ------------------------------------------------------------\n",
      "                                           Total:        12.5 MB\n",
      "\n",
      "The following NEW packages will be INSTALLED:\n",
      "\n",
      "  scipy              pkgs/main/osx-64::scipy-1.3.2-py36h1410ff5_0\n",
      "\n",
      "\n",
      "\n",
      "Downloading and Extracting Packages\n",
      "scipy-1.3.2          | 12.5 MB   | ##################################### | 100% \n",
      "Preparing transaction: done\n",
      "Verifying transaction: done\n",
      "Executing transaction: done\n"
     ]
    }
   ],
   "source": [
    "import sys\n",
    "!conda install --yes --prefix {sys.prefix} numpy\n",
    "!conda install --yes --prefix {sys.prefix} pandas\n",
    "!conda install --yes --prefix {sys.prefix} scipy"
   ]
  },
  {
   "cell_type": "markdown",
   "metadata": {},
   "source": [
    "Read data from csv into pandas dataframe"
   ]
  },
  {
   "cell_type": "code",
   "execution_count": 2,
   "metadata": {},
   "outputs": [],
   "source": [
    "import pandas as pd\n",
    "import csv\n",
    "\n",
    "data = {\"source\":[], \"dest_ip\":[], \"dest_owner\":[], \"type\":[], \"OS\": [], \"length\":[], \"app\":[]}\n",
    "with open(\"parsed.csv\", \"r\") as inf:\n",
    "    reader = csv.reader(inf, delimiter=',', quotechar = '\"')\n",
    "    next(reader)\n",
    "    for row in reader:\n",
    "        data[\"source\"].append(row[0])\n",
    "        data[\"dest_ip\"].append(row[1])\n",
    "        data[\"dest_owner\"].append(row[2][row[2].find(\"-\") + 2:])\n",
    "        data[\"type\"].append(row[3])\n",
    "        data[\"OS\"].append(row[4])\n",
    "        data[\"length\"].append(row[5])\n",
    "        data[\"app\"].append(row[6])\n",
    "df = pd.DataFrame(data)\n"
   ]
  },
  {
   "cell_type": "markdown",
   "metadata": {},
   "source": [
    "Top 15 most frequent providers (based on packet count)"
   ]
  },
  {
   "cell_type": "code",
   "execution_count": 3,
   "metadata": {},
   "outputs": [
    {
     "name": "stdout",
     "output_type": "stream",
     "text": [
      "Google LLC, US                                                  43258\n",
      "Comcast Cable Communications, LLC, US                           35739\n",
      "2 - Amazon.com, Inc., US                                        13112\n",
      "RODUCTION - Roblox, US                                           9805\n",
      "SN1, US                                                          5092\n",
      "S - Akamai Technologies, Inc., US                                4564\n",
      "MCI Communications Services, Inc. d/b/a Verizon Business, US     4458\n",
      "Facebook, Inc., US                                               2437\n",
      "Highwinds Network Group, Inc., US                                2293\n",
      "ES - Amazon.com, Inc., US                                        2185\n",
      "Fastly, US                                                       1650\n",
      "NGINEERING - Apple Inc., US                                       437\n",
      "Square, Inc., US                                                  435\n",
      "ORP-MSN-AS-BLOCK - Microsoft Corporation, US                      229\n",
      "MoPub, Inc., US                                                   170\n",
      "Name: dest_owner, dtype: int64\n"
     ]
    }
   ],
   "source": [
    "top_fifteen = df[df.dest_owner != \"\"][\"dest_owner\"].value_counts()[0:15]\n",
    "print(top_fifteen)"
   ]
  },
  {
   "cell_type": "markdown",
   "metadata": {},
   "source": [
    "Previous analysis does not take into account the differences in number of packets for each app (this is why roblox is so high). \n",
    "Let's rank providers based on the proportion of packets captured for each app. \n"
   ]
  },
  {
   "cell_type": "markdown",
   "metadata": {},
   "source": [
    "Score for a given provider is given by  $$Score = \\frac{1}{N} \\sum_{n=1}^{N} \\frac{P_n}{T_n}$$\n",
    "\n",
    "Where $N$ is the number of apps, $P_n$ is the number of outgoing packets for app $n$ handled by the provider, and $T_n$ is the total number of outgoing packets for app $n$. Thus, the maximum possible score (all packets handled for all apps) is 1."
   ]
  },
  {
   "cell_type": "code",
   "execution_count": 19,
   "metadata": {},
   "outputs": [
    {
     "name": "stdout",
     "output_type": "stream",
     "text": [
      "                                             Provider     Score  % Traffic\n",
      "0                                      Google LLC, US  0.442675  34.162020\n",
      "1                            2 - Amazon.com, Inc., US  0.159281  10.354903\n",
      "2               Comcast Cable Communications, LLC, US  0.154884  28.224061\n",
      "3                   S - Akamai Technologies, Inc., US  0.047973   3.604315\n",
      "4                                  Facebook, Inc., US  0.035142   1.924565\n",
      "5                           ES - Amazon.com, Inc., US  0.031029   1.725554\n",
      "6                                             SN1, US  0.025295   4.021291\n",
      "7   MCI Communications Services, Inc. d/b/a Verizo...  0.022638   3.520604\n",
      "8                                          Fastly, US  0.020822   1.303050\n",
      "9                         NGINEERING - Apple Inc., US  0.017200   0.345111\n",
      "10                             RODUCTION - Roblox, US  0.015031   7.743275\n",
      "11                  Highwinds Network Group, Inc., US  0.009439   1.810845\n",
      "12                                   Square, Inc., US  0.007613   0.343531\n",
      "13                                    MoPub, Inc., US  0.002769   0.134254\n",
      "14                               Cloudflare, Inc., US  0.002073   0.112931\n"
     ]
    }
   ],
   "source": [
    "def get_scores(df):\n",
    "    owner_dict = {key:0 for key in df.dest_owner.unique()}\n",
    "    df = df[df.dest_owner != \"\"]\n",
    "    \n",
    "    \n",
    "    for app in df.app.unique():\n",
    "        perc = df[df.app == app][\"dest_owner\"].value_counts()\n",
    "        total = len(df[df.app == app])\n",
    "        perc = {key: float(value/total) for key, value in perc.items()}\n",
    "        for key,value in perc.items(): owner_dict[key] += value\n",
    "        \n",
    "    apps = len(df.app.unique())\n",
    "    score = {key: float(value)/apps for key,value in owner_dict.items()}\n",
    "    scores = pd.DataFrame(sorted(score.items(), key=lambda x: x[1], reverse=True), columns = [\"Provider\", \"Score\"])\n",
    "    scores[\"% Traffic\"] = scores[\"Provider\"].map(lambda x: len(df[df.dest_owner == x])/len(df)*100)\n",
    "    return scores\n",
    "\n",
    "print(get_scores(df).head(15))"
   ]
  },
  {
   "cell_type": "markdown",
   "metadata": {},
   "source": [
    "Let's repeat the same thing for ios."
   ]
  },
  {
   "cell_type": "code",
   "execution_count": 20,
   "metadata": {},
   "outputs": [
    {
     "name": "stdout",
     "output_type": "stream",
     "text": [
      "                                        Provider     Score  % Traffic\n",
      "0                                 Google LLC, US  0.243643  33.850583\n",
      "1                       2 - Amazon.com, Inc., US  0.194711  21.492768\n",
      "2                             Facebook, Inc., US  0.153152   3.917989\n",
      "3                    NGINEERING - Apple Inc., US  0.110250   1.534195\n",
      "4          Comcast Cable Communications, LLC, US  0.089188  20.264008\n",
      "5              S - Akamai Technologies, Inc., US  0.075360   6.445724\n",
      "6                                     Fastly, US  0.042176   3.163179\n",
      "7                      ES - Amazon.com, Inc., US  0.030224   3.198287\n",
      "8                               Square, Inc., US  0.029450   1.105884\n",
      "9                         USTIN - Apple Inc., US  0.011738   0.165005\n",
      "10             Highwinds Network Group, Inc., US  0.010921   2.871788\n",
      "11                          Cloudflare, Inc., US  0.002293   0.298413\n",
      "12  ORP-MSN-AS-BLOCK - Microsoft Corporation, US  0.002111   0.628423\n",
      "13                              PayPal, Inc., US  0.000813   0.094790\n",
      "14     AOBAO Zhejiang Taobao Network Co.,Ltd, CN  0.000755   0.224688\n"
     ]
    }
   ],
   "source": [
    "print(get_scores(df[df.OS == \"ios\"]).head(15))"
   ]
  },
  {
   "cell_type": "markdown",
   "metadata": {},
   "source": [
    "And for android."
   ]
  },
  {
   "cell_type": "code",
   "execution_count": 21,
   "metadata": {},
   "outputs": [
    {
     "name": "stdout",
     "output_type": "stream",
     "text": [
      "                                             Provider     Score  % Traffic\n",
      "0                                      Google LLC, US  0.525805  34.252410\n",
      "1                            2 - Amazon.com, Inc., US  0.136185   7.122333\n",
      "2               Comcast Cable Communications, LLC, US  0.123039  30.534328\n",
      "3                   S - Akamai Technologies, Inc., US  0.050349   2.779646\n",
      "4                                             SN1, US  0.028707   5.188400\n",
      "5                           ES - Amazon.com, Inc., US  0.027426   1.298119\n",
      "6   MCI Communications Services, Inc. d/b/a Verizo...  0.024967   4.509792\n",
      "7                                  Facebook, Inc., US  0.024638   1.346009\n",
      "8                                          Fastly, US  0.016828   0.763180\n",
      "9                              RODUCTION - Roblox, US  0.016701   9.990626\n",
      "10                  Highwinds Network Group, Inc., US  0.011831   1.502924\n",
      "11                                    MoPub, Inc., US  0.003295   0.173218\n",
      "12                                   Square, Inc., US  0.003185   0.122272\n",
      "13                                   PayPal, Inc., US  0.002828   0.071325\n",
      "14  LIBABA-US-NET-AP Alibaba (US) Technology Co., ...  0.000987   0.110045\n"
     ]
    }
   ],
   "source": [
    "print(get_scores(df[df.OS == \"android\"]).head(15))"
   ]
  },
  {
   "cell_type": "markdown",
   "metadata": {},
   "source": [
    "android talks to google WAY more -> indicative of background/non-app related traffic???"
   ]
  },
  {
   "cell_type": "markdown",
   "metadata": {},
   "source": [
    "Now let's analyze the distribution of packet providers. Let's calculate Shannon's entropy for each app. This value will be highest if providers are evenly distributed. "
   ]
  },
  {
   "cell_type": "code",
   "execution_count": 25,
   "metadata": {},
   "outputs": [
    {
     "name": "stderr",
     "output_type": "stream",
     "text": [
      "/Users/lavanyasingh/anaconda3/lib/python3.6/site-packages/ipykernel_launcher.py:5: UserWarning: Boolean Series key will be reindexed to match DataFrame index.\n",
      "  \"\"\"\n"
     ]
    },
    {
     "name": "stdout",
     "output_type": "stream",
     "text": [
      "               App   Entropy  CDN Count                                Top CDN\n",
      "0       forgeahead  2.200191         23      S - Akamai Technologies, Inc., US\n",
      "1           tinder  1.914604         10                         Google LLC, US\n",
      "2          luckygo  1.560211         13      S - Akamai Technologies, Inc., US\n",
      "3           arrive  1.425340          7                         Google LLC, US\n",
      "4             yolo  1.368666         11                         Google LLC, US\n",
      "5            venmo  1.367446         13               2 - Amazon.com, Inc., US\n",
      "6          walmart  1.158229          9  Comcast Cable Communications, LLC, US\n",
      "7          cashapp  1.127729          8                         Google LLC, US\n",
      "8           tiktok  1.021691          9                                SN1, US\n",
      "9        messenger  0.950322         11                         Google LLC, US\n",
      "10  amazonshopping  0.863552          5  Comcast Cable Communications, LLC, US\n",
      "11          roblox  0.750157          9  Comcast Cable Communications, LLC, US\n",
      "12      googlehome  0.697491          4                         Google LLC, US\n",
      "13          amazon  0.694052          8  Comcast Cable Communications, LLC, US\n",
      "14      disneyplus  0.677383          8               2 - Amazon.com, Inc., US\n",
      "15   messengerkids  0.369311          4                         Google LLC, US\n",
      "16        baseline  0.339136          3                         Google LLC, US\n",
      "17        snapchat  0.068931          4                         Google LLC, US\n",
      "18     youtubekids  0.063864          3                         Google LLC, US\n",
      "19     androidauto  0.007168          2                         Google LLC, US\n"
     ]
    }
   ],
   "source": [
    "from scipy.stats import entropy\n",
    "\n",
    "app_dict = {app:None for app in df.app.unique()}\n",
    "for app in df.app.unique():\n",
    "    counts = [len(df[df[\"app\"] == app][df[\"dest_owner\"] == dest_owner]) for dest_owner in df.dest_owner.unique()]\n",
    "    app_dict[app] = entropy(counts, base=None)\n",
    "app_entropy = pd.DataFrame(sorted(app_dict.items(), key=lambda x: x[1], reverse=True), columns = ['App', 'Entropy'])\n",
    "app_entropy[\"CDN Count\"] = [len(df[df.app == app].dest_owner.unique()) for app in app_entropy['App']]\n",
    "app_entropy[\"Top CDN\"] = [df[df.app == app]['dest_owner'].value_counts().idxmax() for app in app_entropy['App']]\n",
    "print(app_entropy)"
   ]
  },
  {
   "cell_type": "markdown",
   "metadata": {},
   "source": [
    "Now let's do some entropy analysis by category. I'm going to manually input categories :("
   ]
  },
  {
   "cell_type": "code",
   "execution_count": 54,
   "metadata": {},
   "outputs": [
    {
     "name": "stdout",
     "output_type": "stream",
     "text": [
      "               App   Entropy  CDN Count          Top CDN       category\n",
      "0       forgeahead  2.200191         23  S - Akamai Tech          games\n",
      "1           tinder  1.914604         10   Google LLC, US      lifestyle\n",
      "2          luckygo  1.560211         13  S - Akamai Tech      lifestyle\n",
      "3           arrive  1.425340          7   Google LLC, US       shopping\n",
      "4             yolo  1.368666         11   Google LLC, US         social\n",
      "5            venmo  1.367446         13  2 - Amazon.com,        finance\n",
      "6          walmart  1.158229          9  Comcast Cable C       shopping\n",
      "7          cashapp  1.127729          8   Google LLC, US        finance\n",
      "8           tiktok  1.021691          9          SN1, US         social\n",
      "9        messenger  0.950322         11   Google LLC, US         social\n",
      "10  amazonshopping  0.863552          5  Comcast Cable C       shopping\n",
      "11          roblox  0.750157          9  Comcast Cable C          games\n",
      "12      googlehome  0.697491          4   Google LLC, US      lifestyle\n",
      "13          amazon  0.694052          8  Comcast Cable C       shopping\n",
      "14      disneyplus  0.677383          8  2 - Amazon.com,  entertainment\n",
      "15   messengerkids  0.369311          4   Google LLC, US           kids\n",
      "16        baseline  0.339136          3   Google LLC, US        control\n",
      "17        snapchat  0.068931          4   Google LLC, US         social\n",
      "18     youtubekids  0.063864          3   Google LLC, US           kids\n",
      "19     androidauto  0.007168          2   Google LLC, US           auto\n"
     ]
    }
   ],
   "source": [
    "categories = {\"forgeahead\":\"games\", \"tinder\":\"lifestyle\", \"luckygo\":\"lifestyle\", \"arrive\":\"shopping\", \"yolo\":\"social\", \n",
    "              \"venmo\":\"finance\", \"walmart\":\"shopping\", \"cashapp\":\"finance\", \"tiktok\":\"social\", \"messenger\":\"social\", \n",
    "             \"amazonshopping\":\"shopping\", \"roblox\":\"games\", \"googlehome\":\"lifestyle\", \"amazon\":\"shopping\", \"disneyplus\":\"entertainment\", \n",
    "             \"messengerkids\":\"kids\", \"baseline\":\"control\", \"snapchat\":\"social\", \"youtubekids\":\"kids\", \"androidauto\":\"auto\"}\n",
    "app_entropy[\"category\"] = [categories[app] for app in app_entropy.App.unique()]\n",
    "# making the provider names shorter lol\n",
    "app_entropy[\"Top CDN\"] = [provider[0:15] for provider in app_entropy[\"Top CDN\"]]\n",
    "print(app_entropy)"
   ]
  },
  {
   "cell_type": "markdown",
   "metadata": {},
   "source": [
    "Now let's get entropy by category."
   ]
  },
  {
   "cell_type": "code",
   "execution_count": 55,
   "metadata": {},
   "outputs": [
    {
     "name": "stderr",
     "output_type": "stream",
     "text": [
      "/Users/lavanyasingh/anaconda3/lib/python3.6/site-packages/ipykernel_launcher.py:7: UserWarning: Boolean Series key will be reindexed to match DataFrame index.\n",
      "  import sys\n"
     ]
    },
    {
     "name": "stdout",
     "output_type": "stream",
     "text": [
      "        Category   Entropy  CDN Count          Top CDN  # of Apps\n",
      "0          games  1.536546         25  Comcast Cable C          2\n",
      "1      lifestyle  1.914956         15  S - Akamai Tech          3\n",
      "2       shopping  1.015942         12  Comcast Cable C          4\n",
      "3         social  1.191922         18   Google LLC, US          4\n",
      "4        finance  1.594803         14  2 - Amazon.com,          2\n",
      "5  entertainment  0.677383          8  2 - Amazon.com,          1\n",
      "6           kids  0.172813          4   Google LLC, US          2\n",
      "7        control  0.339136          3   Google LLC, US          1\n",
      "8           auto  0.007168          2   Google LLC, US          1\n"
     ]
    }
   ],
   "source": [
    "# a little maintenance\n",
    "df[\"category\"] = [categories[app] for app in df.app]\n",
    "df[\"dest_owner\"] = [provider[0:15] for provider in df.dest_owner]\n",
    "\n",
    "cat_dict = {category:None for category in categories.values()}\n",
    "for category in df.category.unique():\n",
    "    counts = [len(df[df[\"category\"] == category][df[\"dest_owner\"] == dest_owner]) for dest_owner in df.dest_owner.unique()]\n",
    "    counts = list(filter(lambda x: x!= 0, counts))\n",
    "    cat_dict[category] = entropy(counts, base=None)\n",
    "cat_entropy = pd.DataFrame(cat_dict.items(), columns = ['Category', 'Entropy'])\n",
    "cat_entropy.sort_values(by=[\"Entropy\"])\n",
    "cat_entropy[\"CDN Count\"] = [len(df[df.category == category].dest_owner.unique()) for category in cat_entropy['Category']]\n",
    "cat_entropy[\"Top CDN\"] = [df[df.category == category]['dest_owner'].value_counts().idxmax() for category in cat_entropy['Category']]\n",
    "cat_entropy[\"# of Apps\"] = [len(df[df.category == category].app.unique()) for category in cat_entropy['Category']]\n",
    "print(cat_entropy)\n",
    "    "
   ]
  },
  {
   "cell_type": "markdown",
   "metadata": {},
   "source": [
    "Keep in mind that the sample size for each category is pretty tiny."
   ]
  },
  {
   "cell_type": "markdown",
   "metadata": {},
   "source": [
    "Let's now try to figure out how distributed the entire dataset is. I'm going to use a a chi squared to test to figure out \n",
    "how evenly distributed CDN usage is."
   ]
  },
  {
   "cell_type": "code",
   "execution_count": 58,
   "metadata": {},
   "outputs": [
    {
     "name": "stdout",
     "output_type": "stream",
     "text": [
      "0.0\n"
     ]
    }
   ],
   "source": [
    "from scipy.stats import chisquare\n",
    "stat = chisquare([len(df[df[\"dest_owner\"] == provider]) for provider in df.dest_owner.unique()])\n",
    "print(stat.pvalue)"
   ]
  },
  {
   "cell_type": "markdown",
   "metadata": {},
   "source": [
    "Our pvalue is 0. I guess CDN usage is nowhere NEAR unformly distributed. "
   ]
  },
  {
   "cell_type": "markdown",
   "metadata": {},
   "source": [
    "It also seems like \"smaller\" apps are more likely to use more CDN's than an app owned by a huge company, like Google. To test this, I'm going to use the app's downloads (sum of ios and android downloads as given by sensortower) as a rough proxy measure for app size (but maybe we can come up with something better). I'm going to have to manually input this :("
   ]
  },
  {
   "cell_type": "code",
   "execution_count": 62,
   "metadata": {},
   "outputs": [
    {
     "name": "stdout",
     "output_type": "stream",
     "text": [
      "               App   Entropy  CDN Count          Top CDN       category  \\\n",
      "0       forgeahead  2.200191         23  S - Akamai Tech          games   \n",
      "1           tinder  1.914604         10   Google LLC, US      lifestyle   \n",
      "2          luckygo  1.560211         13  S - Akamai Tech      lifestyle   \n",
      "3           arrive  1.425340          7   Google LLC, US       shopping   \n",
      "4             yolo  1.368666         11   Google LLC, US         social   \n",
      "5            venmo  1.367446         13  2 - Amazon.com,        finance   \n",
      "6          walmart  1.158229          9  Comcast Cable C       shopping   \n",
      "7          cashapp  1.127729          8   Google LLC, US        finance   \n",
      "8           tiktok  1.021691          9          SN1, US         social   \n",
      "9        messenger  0.950322         11   Google LLC, US         social   \n",
      "10  amazonshopping  0.863552          5  Comcast Cable C       shopping   \n",
      "11          roblox  0.750157          9  Comcast Cable C          games   \n",
      "12      googlehome  0.697491          4   Google LLC, US      lifestyle   \n",
      "13          amazon  0.694052          8  Comcast Cable C       shopping   \n",
      "14      disneyplus  0.677383          8  2 - Amazon.com,  entertainment   \n",
      "15   messengerkids  0.369311          4   Google LLC, US           kids   \n",
      "16        baseline  0.339136          3   Google LLC, US        control   \n",
      "17        snapchat  0.068931          4   Google LLC, US         social   \n",
      "18     youtubekids  0.063864          3   Google LLC, US           kids   \n",
      "19     androidauto  0.007168          2   Google LLC, US           auto   \n",
      "\n",
      "    downloads  \n",
      "0    10000000  \n",
      "1     6000000  \n",
      "2     1000000  \n",
      "3     1800000  \n",
      "4     2600000  \n",
      "5     1700000  \n",
      "6     2000000  \n",
      "7     3000000  \n",
      "8    58000000  \n",
      "9    43000000  \n",
      "10    9000000  \n",
      "11   12000000  \n",
      "12    7000000  \n",
      "13    9000000  \n",
      "14    8000000  \n",
      "15     900000  \n",
      "16          0  \n",
      "17   26000000  \n",
      "18    7000000  \n",
      "19    3000000  \n"
     ]
    }
   ],
   "source": [
    "downloads = {\"forgeahead\":10000000, \"tinder\":6000000, \"luckygo\":1000000, \"arrive\":1800000, \"yolo\":2600000, \n",
    "              \"venmo\":1700000, \"walmart\":2000000, \"cashapp\":3000000, \"tiktok\":58000000, \"messenger\":43000000, \n",
    "             \"amazonshopping\":9000000, \"roblox\":12000000, \"googlehome\":7000000, \"amazon\":9000000, \"disneyplus\":8000000, \n",
    "             \"messengerkids\":900000, \"baseline\":0, \"snapchat\":26000000, \"youtubekids\":7000000, \"androidauto\":3000000}\n",
    "df[\"downloads\"] = [downloads[app] for app in df.app]\n",
    "app_entropy[\"downloads\"] = [downloads[app] for app in app_entropy.App]\n",
    "app_entropy.sort_values(by=[\"downloads\"])\n",
    "print(app_entropy)\n"
   ]
  },
  {
   "cell_type": "code",
   "execution_count": null,
   "metadata": {},
   "outputs": [],
   "source": []
  }
 ],
 "metadata": {
  "kernelspec": {
   "display_name": "Python 3",
   "language": "python",
   "name": "python3"
  },
  "language_info": {
   "codemirror_mode": {
    "name": "ipython",
    "version": 3
   },
   "file_extension": ".py",
   "mimetype": "text/x-python",
   "name": "python",
   "nbconvert_exporter": "python",
   "pygments_lexer": "ipython3",
   "version": "3.6.8"
  }
 },
 "nbformat": 4,
 "nbformat_minor": 4
}
