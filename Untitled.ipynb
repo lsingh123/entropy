{
 "cells": [
  {
   "cell_type": "code",
   "execution_count": 3,
   "metadata": {},
   "outputs": [
    {
     "name": "stdout",
     "output_type": "stream",
     "text": [
      "    Category  Overlap %\n",
      "0  lifestyle       90.0\n",
      "1     social       86.0\n",
      "2    finance       72.0\n",
      "3       game       70.0\n",
      "4       kids       44.0\n",
      "5   shopping       37.0\n"
     ]
    },
    {
     "name": "stderr",
     "output_type": "stream",
     "text": [
      "/Users/lavanyasingh/anaconda3/lib/python3.6/site-packages/ipykernel_launcher.py:24: UserWarning: Boolean Series key will be reindexed to match DataFrame index.\n",
      "/Users/lavanyasingh/anaconda3/lib/python3.6/site-packages/ipykernel_launcher.py:25: UserWarning: Boolean Series key will be reindexed to match DataFrame index.\n",
      "/Users/lavanyasingh/anaconda3/lib/python3.6/site-packages/ipykernel_launcher.py:26: UserWarning: Boolean Series key will be reindexed to match DataFrame index.\n"
     ]
    }
   ],
   "source": [
    "import csv\n",
    "import pandas as pd\n",
    "\n",
    "def get_dataframe():\n",
    "    results = {\"date\":[], \"category\":[], \"app\":[], \"ranking\":[], \"os\":[]}\n",
    "    with open(\"rankings.csv\", \"r\", errors='ignore') as inf:\n",
    "        reader = csv.reader(inf, delimiter=',', quotechar = '\"')\n",
    "        for line in reader:\n",
    "            results[\"date\"].append(line[0])\n",
    "            results[\"category\"].append(line[1])\n",
    "            results[\"app\"].append(line[2])\n",
    "            results[\"ranking\"].append(int((int(line[3]) + 1)/2))   # i messed up the ranking numbers lol\n",
    "            results[\"os\"].append(line[4])\n",
    "    return pd.DataFrame.from_dict(results)\n",
    "\n",
    "def get_overlaps():\n",
    "    apps = get_dataframe()\n",
    "    categories = {\"games\":\"game\", \"game\":\"game\", \"social-networking\":\"social\", \n",
    "                  \"social\":\"social\", \"dating\":\"lifestyle\", \"lifestyle\":\"lifestyle\", \n",
    "                  \"shopping\":\"shopping\", \"finance\":\"finance\", \"kids\":\"kids\", \"family\":\"kids\"}\n",
    "    apps[\"category\"] = [categories[category] for category in apps.category]\n",
    "    cat_dict = {category:None for category in apps.category.unique()}\n",
    "    for category in cat_dict:\n",
    "        date1 = set(apps[apps.category == category][apps.date == '1/4/20'].app)\n",
    "        date2 = set(apps[apps.category == category][apps.date == '12/27/19'].app)\n",
    "        total = len(apps[apps.category == category][apps.date == '1/4/20'])\n",
    "        cat_dict[category] = len(list(date1 & date2))/total*100\n",
    "    overlaps = pd.DataFrame(sorted(cat_dict.items(), key=lambda x: x[1], reverse=True), \n",
    "                            columns=[\"Category\", \"Overlap %\"])\n",
    "    print(overlaps)\n",
    "    \n",
    "get_overlaps()"
   ]
  },
  {
   "cell_type": "code",
   "execution_count": null,
   "metadata": {},
   "outputs": [],
   "source": []
  }
 ],
 "metadata": {
  "kernelspec": {
   "display_name": "Python 3",
   "language": "python",
   "name": "python3"
  },
  "language_info": {
   "codemirror_mode": {
    "name": "ipython",
    "version": 3
   },
   "file_extension": ".py",
   "mimetype": "text/x-python",
   "name": "python",
   "nbconvert_exporter": "python",
   "pygments_lexer": "ipython3",
   "version": "3.6.8"
  }
 },
 "nbformat": 4,
 "nbformat_minor": 4
}
